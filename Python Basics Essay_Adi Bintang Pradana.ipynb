{
 "cells": [
  {
   "cell_type": "markdown",
   "metadata": {},
   "source": [
    "# No. 6"
   ]
  },
  {
   "cell_type": "code",
   "execution_count": 2,
   "metadata": {},
   "outputs": [
    {
     "name": "stdout",
     "output_type": "stream",
     "text": [
      "rev_specstring (\"AFC#47GH$Ieu\") = ueI#47HG$CFA\n",
      "rev_specstring (\"guyhiuj1234!@#$%rtyhghu\") = uhghytr1234!@#$%juihyug\n",
      "rev_specstring (\"12!@\") = 12!@\n"
     ]
    }
   ],
   "source": [
    "def rev_specstring(text): \n",
    "    index = -1\n",
    "      \n",
    "    for i in range(len(text)-1, int(len(text)/2), -1): \n",
    "          \n",
    "        if text[i].isalpha(): \n",
    "            temp = text[i] \n",
    "            while True: \n",
    "                index += 1\n",
    "                if text[index].isalpha(): \n",
    "                    text[i] = text[index] \n",
    "                    text[index] = temp \n",
    "                    break\n",
    "    return text \n",
    "      \n",
    "string = \"AFC#47GH$Ieu\"\n",
    "string = rev_specstring(list(string)) \n",
    "print('rev_specstring (\"AFC#47GH$Ieu\") =', ''.join(string)) \n",
    "\n",
    "string = \"guyhiuj1234!@#$%rtyhghu\" \n",
    "string = rev_specstring(list(string)) \n",
    "print('rev_specstring (\"guyhiuj1234!@#$%rtyhghu\") =', ''.join(string)) \n",
    "\n",
    "string = \"12!@\"\n",
    "string = rev_specstring(list(string)) \n",
    "print('rev_specstring (\"12!@\") =', ''.join(string)) "
   ]
  },
  {
   "cell_type": "code",
   "execution_count": 8,
   "metadata": {},
   "outputs": [
    {
     "name": "stdout",
     "output_type": "stream",
     "text": [
      "rev_specstring (\"AFC#47GH$Ieu\") =  ueI#47HG$CFA\n",
      "rev_specstring (\"guyhiuj1234!@#$%rtyhghu\") =  uhghytr1234!@#$%juihyug\n",
      "rev_specstring (\"12!@\") =  12!@\n"
     ]
    }
   ],
   "source": [
    "def rev_specstring(s):\n",
    "    letters = [i for i in s if i.isalpha()]\n",
    "    return ''.join(letters.pop() if i.isalpha() else i for i in s)\n",
    "\n",
    "print('rev_specstring (\"AFC#47GH$Ieu\") = ', rev_specstring(\"AFC#47GH$Ieu\"))\n",
    "print('rev_specstring (\"guyhiuj1234!@#$%rtyhghu\") = ', rev_specstring(\"guyhiuj1234!@#$%rtyhghu\"))\n",
    "print('rev_specstring (\"12!@\") = ', rev_specstring(\"12!@\"))"
   ]
  },
  {
   "cell_type": "markdown",
   "metadata": {},
   "source": [
    "# No. 7"
   ]
  },
  {
   "cell_type": "code",
   "execution_count": 9,
   "metadata": {},
   "outputs": [
    {
     "name": "stdout",
     "output_type": "stream",
     "text": [
      "digits(1) = 0\n",
      "digits(10) = 9\n",
      "digits(100) = 189\n",
      "digits(2020) = 6969\n"
     ]
    }
   ],
   "source": [
    "def digits(n):\n",
    "    if n == 1:\n",
    "        return 0\n",
    "    s = str(n - 1)\n",
    "    return len(s) + digits(n - 1)\n",
    "\n",
    "print('digits(1) =', digits(1))\n",
    "print('digits(10) =', digits(10))\n",
    "print('digits(100) =', digits(100))\n",
    "print('digits(2020) =', digits(2020))"
   ]
  },
  {
   "cell_type": "code",
   "execution_count": 11,
   "metadata": {},
   "outputs": [
    {
     "name": "stdout",
     "output_type": "stream",
     "text": [
      "digits(1) = 0\n",
      "digits(10) = 9\n",
      "digits(100) = 189\n",
      "digits(2020) = 6969\n"
     ]
    }
   ],
   "source": [
    "def digits(n):\n",
    "    l = len(str(n))\n",
    "    return n * l - int('1' * l)\n",
    "\n",
    "print('digits(1) =', digits(1))\n",
    "print('digits(10) =', digits(10))\n",
    "print('digits(100) =', digits(100))\n",
    "print('digits(2020) =', digits(2020))"
   ]
  }
 ],
 "metadata": {
  "kernelspec": {
   "display_name": "Python 3",
   "language": "python",
   "name": "python3"
  },
  "language_info": {
   "codemirror_mode": {
    "name": "ipython",
    "version": 3
   },
   "file_extension": ".py",
   "mimetype": "text/x-python",
   "name": "python",
   "nbconvert_exporter": "python",
   "pygments_lexer": "ipython3",
   "version": "3.8.5"
  }
 },
 "nbformat": 4,
 "nbformat_minor": 4
}
